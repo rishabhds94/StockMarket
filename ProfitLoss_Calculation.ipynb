{
 "cells": [
  {
   "cell_type": "markdown",
   "metadata": {},
   "source": [
    "## Import our modules"
   ]
  },
  {
   "cell_type": "code",
   "execution_count": 1,
   "metadata": {},
   "outputs": [],
   "source": [
    "import pandas as pd \n",
    "import numpy as np\n",
    "import warnings\n",
    "# current version of seaborn generates a bunch of warnings that we'll ignore\n",
    "warnings.filterwarnings('ignore')\n",
    "sns.set_style('whitegrid')\n",
    "import gc\n",
    "import datetime"
   ]
  },
  {
   "cell_type": "markdown",
   "metadata": {},
   "source": [
    "##  Loading our data"
   ]
  },
  {
   "cell_type": "code",
   "execution_count": 2,
   "metadata": {},
   "outputs": [],
   "source": [
    "data = pd.read_excel(\"BankNiftyFutures_Data5Min.xlsx\", encoding = 'ISO-8859-1')"
   ]
  },
  {
   "cell_type": "markdown",
   "metadata": {},
   "source": [
    "## Data Preprocessing"
   ]
  },
  {
   "cell_type": "code",
   "execution_count": 3,
   "metadata": {},
   "outputs": [],
   "source": [
    "data.loc[:,'Time1'] = pd.to_datetime(data.Time.astype(str))\n",
    "data['Time15'] = data.Time1.dt.round('15T').dt.time.map(lambda s: str(s))\n",
    "data.loc[:,'Date'] = pd.to_datetime(data.Date.astype(str)+' '+data.Time15.astype(str))\n",
    "data1 = data[['Date','Open 5', 'High 5','Low 5', 'Close 5', 'Volume 5']]"
   ]
  },
  {
   "cell_type": "code",
   "execution_count": 6,
   "metadata": {},
   "outputs": [],
   "source": [
    "def calculatedata(data):\n",
    "    data['High'] = data['High 5'].max()\n",
    "    data['Low'] = data['Low 5'].min()\n",
    "    data['Volume'] = data['Volume 5'].sum()\n",
    "    \n",
    "    data['Open'] = data['Open 5'].iloc[0]\n",
    "    data['Close'] = data['Close 5'].iloc[-1]\n",
    "    \n",
    "    return data\n",
    "\n",
    "data2 = data1.groupby('Date').apply(calculatedata)\n",
    "data3 = data2[['Date','Open','High','Low','Close','Volume']].drop_duplicates().reset_index()"
   ]
  },
  {
   "cell_type": "markdown",
   "metadata": {},
   "source": [
    "# Calculation of VWAP"
   ]
  },
  {
   "cell_type": "code",
   "execution_count": 11,
   "metadata": {},
   "outputs": [],
   "source": [
    "def calculateVwap(data):\n",
    "    data['TP'] = (data['High']+data['Low']+data['Close'])/3.0\n",
    "    data['TradedValue']  = data['TP']*data['Volume']\n",
    "    data['CumVolume'] = data['Volume'].cumsum()\n",
    "    data['CumTradedValue'] = data['TradedValue'].cumsum()\n",
    "    data['VWAP'] = data['CumTradedValue'] /data['CumVolume']\n",
    "    return data\n",
    "\n",
    "data4 = data3.groupby('Date').apply(calculateVwap)"
   ]
  },
  {
   "cell_type": "code",
   "execution_count": 16,
   "metadata": {},
   "outputs": [
    {
     "data": {
      "text/html": [
       "<div>\n",
       "<style scoped>\n",
       "    .dataframe tbody tr th:only-of-type {\n",
       "        vertical-align: middle;\n",
       "    }\n",
       "\n",
       "    .dataframe tbody tr th {\n",
       "        vertical-align: top;\n",
       "    }\n",
       "\n",
       "    .dataframe thead th {\n",
       "        text-align: right;\n",
       "    }\n",
       "</style>\n",
       "<table border=\"1\" class=\"dataframe\">\n",
       "  <thead>\n",
       "    <tr style=\"text-align: right;\">\n",
       "      <th></th>\n",
       "      <th>Date</th>\n",
       "      <th>Open</th>\n",
       "      <th>High</th>\n",
       "      <th>Low</th>\n",
       "      <th>Close</th>\n",
       "      <th>Volume</th>\n",
       "      <th>TP</th>\n",
       "      <th>TradedValue</th>\n",
       "      <th>CumVolume</th>\n",
       "      <th>CumTradedValue</th>\n",
       "      <th>VWAP</th>\n",
       "    </tr>\n",
       "  </thead>\n",
       "  <tbody>\n",
       "    <tr>\n",
       "      <th>0</th>\n",
       "      <td>2015-01-01 09:15:00</td>\n",
       "      <td>18861.3496</td>\n",
       "      <td>18867.9492</td>\n",
       "      <td>18793.0000</td>\n",
       "      <td>18808.3496</td>\n",
       "      <td>84825</td>\n",
       "      <td>18823.099600</td>\n",
       "      <td>1.596669e+09</td>\n",
       "      <td>84825</td>\n",
       "      <td>1.596669e+09</td>\n",
       "      <td>18823.099600</td>\n",
       "    </tr>\n",
       "    <tr>\n",
       "      <th>1</th>\n",
       "      <td>2015-01-01 09:30:00</td>\n",
       "      <td>18808.0000</td>\n",
       "      <td>18835.0000</td>\n",
       "      <td>18802.1992</td>\n",
       "      <td>18810.0000</td>\n",
       "      <td>85950</td>\n",
       "      <td>18815.733067</td>\n",
       "      <td>1.617212e+09</td>\n",
       "      <td>85950</td>\n",
       "      <td>1.617212e+09</td>\n",
       "      <td>18815.733067</td>\n",
       "    </tr>\n",
       "    <tr>\n",
       "      <th>2</th>\n",
       "      <td>2015-01-01 09:45:00</td>\n",
       "      <td>18805.0000</td>\n",
       "      <td>18839.0508</td>\n",
       "      <td>18775.0000</td>\n",
       "      <td>18837.0000</td>\n",
       "      <td>108925</td>\n",
       "      <td>18817.016933</td>\n",
       "      <td>2.049644e+09</td>\n",
       "      <td>108925</td>\n",
       "      <td>2.049644e+09</td>\n",
       "      <td>18817.016933</td>\n",
       "    </tr>\n",
       "    <tr>\n",
       "      <th>3</th>\n",
       "      <td>2015-01-01 10:00:00</td>\n",
       "      <td>18837.0000</td>\n",
       "      <td>18858.5996</td>\n",
       "      <td>18830.0000</td>\n",
       "      <td>18853.8008</td>\n",
       "      <td>64250</td>\n",
       "      <td>18847.466800</td>\n",
       "      <td>1.210950e+09</td>\n",
       "      <td>64250</td>\n",
       "      <td>1.210950e+09</td>\n",
       "      <td>18847.466800</td>\n",
       "    </tr>\n",
       "    <tr>\n",
       "      <th>4</th>\n",
       "      <td>2015-01-01 10:15:00</td>\n",
       "      <td>18852.0000</td>\n",
       "      <td>18858.0000</td>\n",
       "      <td>18830.0000</td>\n",
       "      <td>18841.0000</td>\n",
       "      <td>37350</td>\n",
       "      <td>18843.000000</td>\n",
       "      <td>7.037860e+08</td>\n",
       "      <td>37350</td>\n",
       "      <td>7.037860e+08</td>\n",
       "      <td>18843.000000</td>\n",
       "    </tr>\n",
       "  </tbody>\n",
       "</table>\n",
       "</div>"
      ],
      "text/plain": [
       "                 Date        Open        High         Low       Close  Volume  \\\n",
       "0 2015-01-01 09:15:00  18861.3496  18867.9492  18793.0000  18808.3496   84825   \n",
       "1 2015-01-01 09:30:00  18808.0000  18835.0000  18802.1992  18810.0000   85950   \n",
       "2 2015-01-01 09:45:00  18805.0000  18839.0508  18775.0000  18837.0000  108925   \n",
       "3 2015-01-01 10:00:00  18837.0000  18858.5996  18830.0000  18853.8008   64250   \n",
       "4 2015-01-01 10:15:00  18852.0000  18858.0000  18830.0000  18841.0000   37350   \n",
       "\n",
       "             TP   TradedValue  CumVolume  CumTradedValue          VWAP  \n",
       "0  18823.099600  1.596669e+09      84825    1.596669e+09  18823.099600  \n",
       "1  18815.733067  1.617212e+09      85950    1.617212e+09  18815.733067  \n",
       "2  18817.016933  2.049644e+09     108925    2.049644e+09  18817.016933  \n",
       "3  18847.466800  1.210950e+09      64250    1.210950e+09  18847.466800  \n",
       "4  18843.000000  7.037860e+08      37350    7.037860e+08  18843.000000  "
      ]
     },
     "execution_count": 16,
     "metadata": {},
     "output_type": "execute_result"
    }
   ],
   "source": [
    "data4.head()"
   ]
  },
  {
   "cell_type": "code",
   "execution_count": 15,
   "metadata": {},
   "outputs": [],
   "source": [
    "data4.drop('index',axis = 1, inplace= True)\n",
    "data4['Time'] = data4['Date'].dt.time\n",
    "data4['Date'] = data4['Date'].dt.date"
   ]
  },
  {
   "cell_type": "markdown",
   "metadata": {},
   "source": [
    "## Trade process"
   ]
  },
  {
   "cell_type": "code",
   "execution_count": 64,
   "metadata": {},
   "outputs": [],
   "source": [
    "Trade1 = pd.DataFrame(columns=[\"Date\",\"BuyAmnt\",\"SellAmnt\",'Profit/Loss'])\n",
    "\n",
    "for i in range(0, len(data4)):\n",
    "    if (data4.loc[i,\"Time\"]>=datetime.datetime.strptime('10:00:00', '%H:%M:%S').time()) & (data4.loc[i,\"Time\"]<datetime.datetime.strptime('15:00:00', '%H:%M:%S').time()):\n",
    "        if (data4['Close'][i] >= data4['VWAP'][i]):\n",
    "            BuyAmnt = data4.loc[i,\"Close\"] +0.05\n",
    "            date = data4.loc[i,\"Date\"]\n",
    "            continue\n",
    "        elif (data4['Close'][i] <= data4['VWAP'][i]):\n",
    "            SellAmnt = data4.loc[i,\"Close\"] - 0.05\n",
    "            date = data4.loc[i,\"Date\"]\n",
    "            \n",
    "    #exit the trade:\n",
    "    elif (data4.loc[i,\"Time\"]>=datetime.datetime.strptime('15:15:00', '%H:%M:%S').time()):\n",
    "            SellAmnt = data4.loc[i,\"Close\"]\n",
    "            date = data4.loc[i,\"Date\"]\n",
    "\n",
    "    \n",
    "            Trade1 = Trade1.append({\"Date\":data4.loc[i,\"Date\"],\n",
    "                                    \"BuyAmnt\":BuyAmnt,\n",
    "                                    \"SellAmnt\":SellAmnt,\n",
    "                                    \"Profit/Loss\":(SellAmnt-BuyAmnt)},\n",
    "                                    ignore_index=True)\n",
    "            \n",
    "            \n"
   ]
  },
  {
   "cell_type": "code",
   "execution_count": 76,
   "metadata": {},
   "outputs": [],
   "source": [
    "Trade1.loc[:,'Date'] = pd.to_datetime(Trade1.Date.astype(str))\n",
    "Trade1['year'] = Trade1['Date'].dt.year\n",
    "Trade1['month']=Trade1['Date'].dt.month"
   ]
  },
  {
   "cell_type": "markdown",
   "metadata": {},
   "source": [
    "## Calculating Profit/Loss for each year"
   ]
  },
  {
   "cell_type": "code",
   "execution_count": 74,
   "metadata": {},
   "outputs": [
    {
     "data": {
      "text/plain": [
       "year\n",
       "2015   -16400.7528\n",
       "2016    -9773.2604\n",
       "2017    -5308.0716\n",
       "2018   -11170.9292\n",
       "2019   -19893.5992\n",
       "Name: Profit/Loss, dtype: float64"
      ]
     },
     "execution_count": 74,
     "metadata": {},
     "output_type": "execute_result"
    }
   ],
   "source": [
    "Trade1.groupby(['year'])['Profit/Loss'].sum() "
   ]
  },
  {
   "cell_type": "markdown",
   "metadata": {},
   "source": [
    "## According to above analysis, 2017 was the year in which loss was minimum."
   ]
  },
  {
   "cell_type": "markdown",
   "metadata": {},
   "source": [
    "#### NOTE : There seems some issue while handling the stoploss. This can be rectified under your guidance."
   ]
  },
  {
   "cell_type": "code",
   "execution_count": null,
   "metadata": {},
   "outputs": [],
   "source": []
  }
 ],
 "metadata": {
  "kernelspec": {
   "display_name": "Python 3",
   "language": "python",
   "name": "python3"
  },
  "language_info": {
   "codemirror_mode": {
    "name": "ipython",
    "version": 3
   },
   "file_extension": ".py",
   "mimetype": "text/x-python",
   "name": "python",
   "nbconvert_exporter": "python",
   "pygments_lexer": "ipython3",
   "version": "3.8.3"
  }
 },
 "nbformat": 4,
 "nbformat_minor": 4
}
